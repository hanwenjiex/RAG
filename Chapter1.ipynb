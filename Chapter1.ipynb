{
 "cells": [
  {
   "cell_type": "code",
   "id": "initial_id",
   "metadata": {
    "collapsed": true,
    "ExecuteTime": {
     "end_time": "2025-02-09T01:34:38.476022Z",
     "start_time": "2025-02-09T01:34:33.091902Z"
    }
   },
   "source": [
    "# Please install OpenAI SDK first: `pip3 install openai`\n",
    "\n",
    "from openai import OpenAI\n",
    "\n",
    "client = OpenAI(api_key=\"sk-7b4938a27ca34cfd8d95123c1144510a\", base_url=\"https://api.deepseek.com\")\n",
    "\n",
    "response = client.chat.completions.create(\n",
    "    model=\"deepseek-chat\",\n",
    "    messages=[\n",
    "        {\"role\": \"system\", \"content\": \"You are a helpful assistant\"},\n",
    "        {\"role\": \"user\", \"content\": \"Hello\"},\n",
    "    ],\n",
    "    stream=False\n",
    ")\n",
    "\n",
    "print(response.choices[0].message.content)\n"
   ],
   "outputs": [
    {
     "name": "stdout",
     "output_type": "stream",
     "text": [
      "Hello! How can I assist you today? 😊\n"
     ]
    }
   ],
   "execution_count": 20
  },
  {
   "metadata": {},
   "cell_type": "markdown",
   "source": "",
   "id": "2a3f9db215045ecd"
  },
  {
   "metadata": {
    "ExecuteTime": {
     "end_time": "2025-02-09T02:01:09.560969Z",
     "start_time": "2025-02-09T02:01:09.145972Z"
    }
   },
   "cell_type": "code",
   "source": [
    "from sentence_transformers import SentenceTransformer\n",
    "import faiss\n",
    "\n",
    "# 初始化嵌入模型和向量索引\n",
    "embedder = SentenceTransformer(r'E:\\workspace\\LLM\\embedding\\bert-base-chinese')  # 嵌入模型\n",
    "#embedder = SentenceTransformer('shibing624/text2vec-base-chinese')  # 嵌入模型\n",
    "dimension = 384 \n",
    "index = faiss.IndexFlatL2(dimension)\n",
    "\n",
    "# 构建领域知识库\n",
    "documents = [\"光伏发电是通过太阳能电池（光伏组件）将太阳光直接转换为电能的过程。\",\n",
    "\"光伏组件主要由半导体材料制成，常见的材料包括单晶硅、多晶硅和薄膜材料。\",\n",
    "\"光伏电池的工作原理是利用光生伏特效应，当太阳光照射到光伏材料上时，光能被转化为电能。\"]\n",
    "\n",
    "doc_embeddings = embedder.encode(documents)\n",
    "\n",
    "index.add(doc_embeddings)\n",
    "\n",
    "# 用户问题\n",
    "#query = \"为什么光伏近年来装机容量不断增加？\"\n",
    "query = \"光伏可以应用在哪些场景中\"\n",
    "query_embeddings = embedder.encode([query])\n",
    "\n",
    "# 检索相关内容\n",
    "k = 10\n",
    "distances, indices = index.search(query_embeddings, k)\n",
    "\n",
    "\n",
    "\n",
    "retrieved_docs = [documents[i] for i in indices[0]]\n",
    "\n",
    "retrieved_context = \"\\n\".join(retrieved_docs)\n",
    "\n"
   ],
   "id": "4ba60920a754c424",
   "outputs": [
    {
     "name": "stderr",
     "output_type": "stream",
     "text": [
      "No sentence-transformers model found with name E:\\workspace\\LLM\\embedding\\bert-base-chinese. Creating a new one with mean pooling.\n"
     ]
    },
    {
     "ename": "AssertionError",
     "evalue": "",
     "output_type": "error",
     "traceback": [
      "\u001B[1;31m---------------------------------------------------------------------------\u001B[0m",
      "\u001B[1;31mAssertionError\u001B[0m                            Traceback (most recent call last)",
      "Cell \u001B[1;32mIn[3], line 17\u001B[0m\n\u001B[0;32m     11\u001B[0m documents \u001B[38;5;241m=\u001B[39m [\u001B[38;5;124m\"\u001B[39m\u001B[38;5;124m光伏发电是通过太阳能电池（光伏组件）将太阳光直接转换为电能的过程。\u001B[39m\u001B[38;5;124m\"\u001B[39m,\n\u001B[0;32m     12\u001B[0m \u001B[38;5;124m\"\u001B[39m\u001B[38;5;124m光伏组件主要由半导体材料制成，常见的材料包括单晶硅、多晶硅和薄膜材料。\u001B[39m\u001B[38;5;124m\"\u001B[39m,\n\u001B[0;32m     13\u001B[0m \u001B[38;5;124m\"\u001B[39m\u001B[38;5;124m光伏电池的工作原理是利用光生伏特效应，当太阳光照射到光伏材料上时，光能被转化为电能。\u001B[39m\u001B[38;5;124m\"\u001B[39m]\n\u001B[0;32m     15\u001B[0m doc_embeddings \u001B[38;5;241m=\u001B[39m embedder\u001B[38;5;241m.\u001B[39mencode(documents)\n\u001B[1;32m---> 17\u001B[0m \u001B[43mindex\u001B[49m\u001B[38;5;241;43m.\u001B[39;49m\u001B[43madd\u001B[49m\u001B[43m(\u001B[49m\u001B[43mdoc_embeddings\u001B[49m\u001B[43m)\u001B[49m\n\u001B[0;32m     19\u001B[0m \u001B[38;5;66;03m# 用户问题\u001B[39;00m\n\u001B[0;32m     20\u001B[0m \u001B[38;5;66;03m#query = \"为什么光伏近年来装机容量不断增加？\"\u001B[39;00m\n\u001B[0;32m     21\u001B[0m query \u001B[38;5;241m=\u001B[39m \u001B[38;5;124m\"\u001B[39m\u001B[38;5;124m光伏可以应用在哪些场景中\u001B[39m\u001B[38;5;124m\"\u001B[39m\n",
      "File \u001B[1;32mE:\\ProgramData\\Python\\envs\\chatgpt\\lib\\site-packages\\faiss\\class_wrappers.py:228\u001B[0m, in \u001B[0;36mhandle_Index.<locals>.replacement_add\u001B[1;34m(self, x)\u001B[0m\n\u001B[0;32m    215\u001B[0m \u001B[38;5;250m\u001B[39m\u001B[38;5;124;03m\"\"\"Adds vectors to the index.\u001B[39;00m\n\u001B[0;32m    216\u001B[0m \u001B[38;5;124;03mThe index must be trained before vectors can be added to it.\u001B[39;00m\n\u001B[0;32m    217\u001B[0m \u001B[38;5;124;03mThe vectors are implicitly numbered in sequence. When `n` vectors are\u001B[39;00m\n\u001B[1;32m   (...)\u001B[0m\n\u001B[0;32m    224\u001B[0m \u001B[38;5;124;03m    `dtype` must be float32.\u001B[39;00m\n\u001B[0;32m    225\u001B[0m \u001B[38;5;124;03m\"\"\"\u001B[39;00m\n\u001B[0;32m    227\u001B[0m n, d \u001B[38;5;241m=\u001B[39m x\u001B[38;5;241m.\u001B[39mshape\n\u001B[1;32m--> 228\u001B[0m \u001B[38;5;28;01massert\u001B[39;00m d \u001B[38;5;241m==\u001B[39m \u001B[38;5;28mself\u001B[39m\u001B[38;5;241m.\u001B[39md\n\u001B[0;32m    229\u001B[0m x \u001B[38;5;241m=\u001B[39m np\u001B[38;5;241m.\u001B[39mascontiguousarray(x, dtype\u001B[38;5;241m=\u001B[39m\u001B[38;5;124m'\u001B[39m\u001B[38;5;124mfloat32\u001B[39m\u001B[38;5;124m'\u001B[39m)\n\u001B[0;32m    230\u001B[0m \u001B[38;5;28mself\u001B[39m\u001B[38;5;241m.\u001B[39madd_c(n, swig_ptr(x))\n",
      "\u001B[1;31mAssertionError\u001B[0m: "
     ]
    }
   ],
   "execution_count": 3
  },
  {
   "metadata": {
    "ExecuteTime": {
     "end_time": "2025-02-08T04:29:12.845379Z",
     "start_time": "2025-02-08T04:29:12.841379Z"
    }
   },
   "cell_type": "code",
   "source": [
    "prompt = f\"\"\"\n",
    "领域知识背景：\n",
    "{retrieved_context}\n",
    "\n",
    "问题：\n",
    "{query}\n",
    "请基于上述知识背景，详细说明推理过程，并提供最终答案。\n",
    "\"\"\"\n",
    "# response = client.chat.completions.create(\n",
    "#     model=\"deepseek-chat\",\n",
    "#     #model='deepseek-reasoner',\n",
    "#     messages=[\n",
    "#         {\"role\": \"user\", \"content\": prompt},\n",
    "#     ],\n",
    "#     stream=False\n",
    "# )\n",
    "# \n",
    "# print(response.choices[0].message.content)"
   ],
   "id": "ee70afe0c6b54af4",
   "outputs": [],
   "execution_count": 2
  },
  {
   "metadata": {
    "ExecuteTime": {
     "end_time": "2025-02-08T08:05:05.203313Z",
     "start_time": "2025-02-08T08:04:15.483712Z"
    }
   },
   "cell_type": "code",
   "source": [
    "import os\n",
    "from openai import OpenAI\n",
    "\n",
    "client = OpenAI(\n",
    "    # 若没有配置环境变量，请用百炼API Key将下行替换为：api_key=\"sk-xxx\",\n",
    "    api_key=\"sk-c082b1a60f5e49dfb7a5f4ed5afc3f2c\", # 如何获取API Key：https://help.aliyun.com/zh/model-studio/developer-reference/get-api-key\n",
    "    base_url=\"https://dashscope.aliyuncs.com/compatible-mode/v1\",\n",
    ")\n",
    "\n",
    "completion = client.chat.completions.create(\n",
    "    model=\"deepseek-r1-distill-llama-70b\",  # 此处以 deepseek-r1-distill-qwen-7b 为例，可按需更换模型名称。\n",
    "    messages=[\n",
    "        {'role': 'user', 'content': prompt}\n",
    "        ]\n",
    ")\n",
    "print(completion.choices[0].message.content)"
   ],
   "id": "b4a4262956f6599e",
   "outputs": [
    {
     "name": "stdout",
     "output_type": "stream",
     "text": [
      "<think>\n",
      "嗯，用户问的是光伏可以应用在哪些场景中。首先，我需要回顾一下提供的知识背景，看看里面有哪些信息可以帮助回答这个问题。\n",
      "\n",
      "知识背景里提到光伏电站可以是分布式或集中式的。分布式的是安装在建筑屋顶，集中式的则建在开阔地带。所以，这可能意味着光伏可以应用在城市建筑和农村或偏远地区。\n",
      "\n",
      "接下来，光伏系统的组成部分包括光伏组件、逆变器、电缆和支架等。逆变器的作用是将直流转换为交流电，这说明光伏发电可以为家庭或企业提供电力，可能适用于居住和商业场景。\n",
      "\n",
      "运维成本较低，但需要定期清洁和检查设备，这可能意味着即使在运营成本较低的情况下，维护是必须的，适用于各种长期稳定的电力需求场景，比如家用和商业用电。\n",
      "\n",
      "光伏电池利用光生伏特效应，将太阳光转化为电能，这说明只要有阳光的地方都可以使用，可能适用于各种需要电力的场景，尤其是太阳资源丰富的地区。\n",
      "\n",
      "创新趋势包括高效单晶硅、异质结电池和钙钛矿电池，这些新技术可能扩展了光伏的应用范围，比如更高效的电池可以在有限空间产生更多电力，适用于城市建筑中的集成应用，比如建筑一体化。\n",
      "\n",
      "光伏系统通常与储能设备结合，储存电能以便在没有阳光时使用，这说明光伏可以用于需要稳定电力的场景，比如家庭储能、商业备用电源，甚至是电网中的储能设施。\n",
      "\n",
      "光伏组件由半导体材料制成，包括单晶硅、多晶硅和薄膜材料。薄膜技术适用于大面积低成本发电，效率较低，但可能适用于大型的公共设施，比如停车场或大型工业屋顶。\n",
      "\n",
      "环境影响较小，除了初期制造和安装，这可能使得光伏适用于环保要求高的场景，比如生态保护区、国家公园或其他需要减少碳排放的地区。\n",
      "\n",
      "最后，光伏与风能和储能结合，可以实现更稳定的电力供应，这可能适用于混合能源系统，比如智能电网、微电网，或者偏远地区的独立电力系统。\n",
      "\n",
      "综合以上信息，光伏的应用场景可以分为几个方面：\n",
      "\n",
      "1. **分布式应用**：家庭屋顶、商业屋顶、建筑一体化，这些都是城市中的典型应用，利用屋顶空间发电，减少电网依赖。\n",
      "\n",
      "2. **集中式应用**：大型光伏电站，建在开阔地带，发电规模大，适合为电网输送大量电力。\n",
      "\n",
      "3. **新能源结合**：与风能、储能设备结合，实现混合能源系统，提高电力供应的稳定性，适用于智能电网和偏远地区。\n",
      "\n",
      "4. **特定场景**：偏远地区的独立电力系统，交通设施如路灯、信号灯，农业用电如灌溉系统，甚至是环保项目中的生态保护区电力供应。\n",
      "\n",
      "这样分类之后，就能详细回答用户的问题，说明光伏可以在家庭、商业、工业、交通、农业、偏远地区等多个场景中应用，帮助用户全面了解光伏的广泛适用性。\n",
      "</think>\n",
      "\n",
      "光伏技术可以应用于多种场景，具体包括：\n",
      "\n",
      "1. **家庭和建筑屋顶**：在住宅、办公楼、学校等建筑的屋顶安装光伏组件，通过分布式光伏系统为建筑提供电力，减少电费开支并提高能源利用效率。\n",
      "\n",
      "2. **集中式光伏电站**：在开阔地带建立大规模的光伏发电站，为电网提供大量清洁电力，帮助减少化石燃料的使用并降低碳排放。\n",
      "\n",
      "3. **交通设施**：在高速公路、铁路和机场等交通基础设施中，光伏可以为路灯、信号灯和其他设备供电，提升能源供应的可靠性。\n",
      "\n",
      "4. **农业用电**：在农村地区，光伏系统可以为农业灌溉、农产品加工等提供电力，帮助农民降低生产成本并提高效率。\n",
      "\n",
      "5. **偏远地区独立电力系统**：在电力基础设施不完善的偏远地区，光伏系统可以作为独立的电力来源，解决当地居民和企业的用电需求。\n",
      "\n",
      "6. **混合能源系统**：光伏可以与风能、储能等其他清洁能源技术结合，构建混合能源系统，提高能源供应的稳定性和可靠性，适用于智能电网和微电网。\n",
      "\n",
      "7. **环境保护**：光伏发电系统可以用于生态保护区和其他需要减少碳排放的环境保护项目，为监测设备、研究站等提供清洁电力。\n",
      "\n",
      "通过这些应用，光伏技术在促进能源转型、提高能源利用效率和减少环境影响方面发挥着重要作用。\n"
     ]
    }
   ],
   "execution_count": 9
  },
  {
   "metadata": {
    "ExecuteTime": {
     "end_time": "2025-02-07T05:49:38.961508Z",
     "start_time": "2025-02-07T05:41:13.485949Z"
    }
   },
   "cell_type": "code",
   "source": [
    "import requests\n",
    "# ollama 本地的地址\n",
    "local_api = \"http://192.100.8.24:11434//api/generate\"\n",
    "\n",
    "data = {\n",
    "    \"model\": \"deepseek-r1:14b\",\n",
    "    \"prompt\": prompt,\n",
    "    \"stream\": False\n",
    "}\n",
    "\n",
    "response = requests.post(local_api, json=data)\n",
    "\n",
    "if response.status_code == 200:\n",
    "    result = response.json()\n",
    "    generated_text = result.get('response', '')\n",
    "    \n",
    "    print(generated_text)\n",
    "else:\n",
    "    print(f\"Error: {response.status_code}, error_info: {response.text}\")\n",
    "    "
   ],
   "id": "4b5943756bbee126",
   "outputs": [
    {
     "name": "stdout",
     "output_type": "stream",
     "text": [
      "<think>\n",
      "嗯，我现在要思考一下光伏技术到底有哪些应用场景。根据提供的背景资料，光伏发电是通过太阳能电池将阳光转换为电能的过程，所以它应该不仅仅局限于传统的发电站或屋顶安装，可能还有其他用途。\n",
      "\n",
      "首先，分布式和集中式光伏电站已经提到，分别用于建筑物和开阔地带。那分布式光伏除了屋顶，还可以用在什么地方呢？比如，停车棚顶是不是也可以装光伏板？这样既节省空间又提供遮阳，还能发电，应该是个不错的场景。\n",
      "\n",
      "然后是建筑与光伏结合的部分，BIPV听起来像是光伏玻璃或者太阳能瓦片，可以替代传统的建筑材料。这样的话，现代建筑的设计可能会更加环保和节能，甚至可能让整个大楼变成一个发电站。\n",
      "\n",
      "农业方面，农光互补项目挺有意思的，就是在大棚上安装光伏电池，这样上面发电，下面种地，节省土地资源，还能提高农民的收入。此外，光伏温室用于植物生长，可能利用光照和电力来控制环境，促进作物生长，这样的应用是不是也能算作光伏的应用之一呢？\n",
      "\n",
      "交通领域的话，电动汽车充电站肯定是一个直接的应用，太阳能充电桩能减少对电网的依赖，特别适合在阳光充足的地方使用。另外，电动公交车的车顶安装光伏板，这样可以部分为车辆供电，延长续航里程，减少充电频率，这应该也是个不错的应用。\n",
      "\n",
      "离网和偏远地区用电也是一个重要场景。很多地方可能没有稳定的电力供应，这时候光伏发电加上储能设备就能提供基本的生活用电，比如在山村、岛屿或者应急情况下使用，这对于提高生活质量非常重要。\n",
      "\n",
      "户用光伏系统就是安装在家里的屋顶或院子里，为家庭供电，甚至可以将多余的电卖给电网，赚取收益，这样既环保又能节省电费，挺有吸引力的。\n",
      "\n",
      "工业和商业用途方面，工厂和商业建筑安装光伏系统，满足自身的电力需求，减少对化石燃料的依赖。特别是那些高耗能的企业，使用光伏发电不仅能降低成本，还能提升企业的绿色形象。\n",
      "\n",
      "便携式设备也是一个有趣的点，比如太阳能背包或者野营用的充电宝，这些小设备利用光伏技术为手机、灯具等小型电器供电，在户外活动或应急情况下特别有用。\n",
      "\n",
      "水上应用方面，浮ovoltaics听起来挺高科技的，把光伏板安装在水面上，比如水库或海面上，这样可以利用大面积水域发电，同时不影响水产养殖或其他水上活动。这可能是一种高效的利用方式，尤其是在土地资源紧张的地方。\n",
      "\n",
      "国防和航空航天领域，太阳能无人机或者卫星上的光伏发电系统，这些设备需要长期运行，而光伏发电能提供稳定的能源供应，减少对传统燃料的依赖，提升任务执行能力。\n",
      "\n",
      "教育和研究方面，建立光伏实验室用于技术研发和测试，推动技术进步；同时，在校园内安装光伏设施，为学校供电，培养学生的环保意识和技术应用能力。\n",
      "\n",
      "总结一下，光伏的应用场景非常广泛，几乎每个行业都能找到它的身影。从能源生产到交通运输，从建筑到农业，再到教育科研，光伏发电以其清洁、可再生的特点，正在改变我们的生活方式和工业模式。\n",
      "</think>\n",
      "\n",
      "### 光伏技术的应用场景分析\n",
      "\n",
      "光伏技术的应用场景多种多样，涵盖了能源供应、交通、农业、建筑等多个领域。以下是基于背景知识的详细推理过程：\n",
      "\n",
      "1. **分布式与集中式发电**\n",
      "   - **屋顶安装**：分布式光伏系统通常安装在建筑物的屋顶上，如住宅、商业和工业建筑。这不仅节省空间，还能有效利用阳光资源。\n",
      "   - **开阔地带**：集中式光伏电站建在大面积的土地或沙漠中，利用大量光伏组件进行大规模发电，适用于电力需求大的地区。\n",
      "\n",
      "2. **建筑与光伏结合（BIPV）**\n",
      "   - **光伏玻璃**：将光伏电池嵌入到建筑物的窗户、幕墙或外墙上，既提供采光又发电。\n",
      "   - **太阳能瓦片**：替代传统屋顶材料，安装在屋顶上，实现发电的同时保持建筑设计的一致性。\n",
      "\n",
      "3. **农业应用**\n",
      "   - **农光互补项目**：在农业大棚顶部安装光伏组件，利用棚顶空间发电，同时下方进行作物种植，提高土地利用率。\n",
      "   - **光伏温室**：通过光伏系统为温室提供电力，并结合智能控制系统调节温湿度，促进植物生长。\n",
      "\n",
      "4. **交通领域**\n",
      "   - **电动汽车充电**：太阳能充电桩利用光伏发电为电动车充电，减少对电网的依赖，特别适合阳光充足的停车场。\n",
      "   - **电动公交车**：车顶或车身安装光伏板，部分供电以延长续航里程，降低能源消耗。\n",
      "\n",
      "5. **离网与偏远地区用电**\n",
      "   - **独立电力系统**：在无电网覆盖的偏远地区，如山村、岛屿或帐篷营地，光伏发电结合储能设备提供基本电力需求。\n",
      "   - **应急电源**：在灾害发生时作为备用电源，保障紧急情况下的电力供应。\n",
      "\n",
      "6. **户用与商用系统**\n",
      "   - **家庭发电**：居民安装光伏系统，为家庭供电并可能出售多余电量给电网，节省电费开支。\n",
      "   - **商业设施**：商场、超市等大型建筑安装光伏系统，满足自身能源需求，并提升企业绿色形象。\n",
      "\n",
      "7. **工业应用**\n",
      "   - **工厂供电**：工业企业利用屋顶或空地安装光伏系统，减少对传统电力的依赖，降低运营成本。\n",
      "\n",
      "8. **便携式设备**\n",
      "   - **户外装备**：太阳能背包、野营充电宝等设备为手机、灯具等小型电器提供电源，在无电网环境下使用。\n",
      "   - **移动电源**：用于应急救援或远途探险时的电力保障。\n",
      "\n",
      "9. **水上应用（浮ovoltaics）**\n",
      "   - **水面光伏电站**：在水库、湖泊或海面上安装浮动光伏组件，利用大面积水域进行发电，适合土地资源有限的地方。\n",
      "\n",
      "10. **国防与航空航天**\n",
      "    - **太阳能无人机**：利用光伏技术为无人机提供持续能源供应，延长飞行时间。\n",
      "    - **卫星电源系统**：为航天器提供电力，确保长期任务的能量需求。\n",
      "\n",
      "11. **教育与研究**\n",
      "    - **实验与测试**：高校和科研机构建立光伏实验室，用于新技术研发和性能测试，推动行业进步。\n",
      "    - **教育培训**：在学校安装光伏设施，作为教学资源，培养学生对可再生能源的认识和技术应用能力。\n",
      "\n",
      "### 总结\n",
      "光伏发电技术的应用场景广泛且多样化，涵盖了能源生产、交通运输、农业、建筑、工业等多个领域。随着技术的进步和成本的下降，光伏发电正逐渐成为全球能源结构的重要组成部分，推动社会向清洁、可持续的能源体系转型。\n"
     ]
    }
   ],
   "execution_count": 26
  },
  {
   "metadata": {},
   "cell_type": "code",
   "outputs": [],
   "execution_count": null,
   "source": "",
   "id": "67ecf4a7e6bbc18d"
  }
 ],
 "metadata": {
  "kernelspec": {
   "display_name": "Python 3",
   "language": "python",
   "name": "python3"
  },
  "language_info": {
   "codemirror_mode": {
    "name": "ipython",
    "version": 2
   },
   "file_extension": ".py",
   "mimetype": "text/x-python",
   "name": "python",
   "nbconvert_exporter": "python",
   "pygments_lexer": "ipython2",
   "version": "2.7.6"
  }
 },
 "nbformat": 4,
 "nbformat_minor": 5
}
